{
  "nbformat": 4,
  "nbformat_minor": 0,
  "metadata": {
    "colab": {
      "provenance": []
    },
    "kernelspec": {
      "name": "python3",
      "display_name": "Python 3"
    },
    "language_info": {
      "name": "python"
    }
  },
  "cells": [
    {
      "cell_type": "code",
      "execution_count": null,
      "metadata": {
        "colab": {
          "base_uri": "https://localhost:8080/"
        },
        "id": "ej_Stl1zPblz",
        "outputId": "18db6ad5-6ac4-40fb-f8b2-cf5a6a8d9732"
      },
      "outputs": [
        {
          "output_type": "stream",
          "name": "stdout",
          "text": [
            "Enter the item purchased (or 'done' to finish): apple\n",
            "Enter the quantity of apple: 20\n",
            "Enter the item purchased (or 'done' to finish): bread\n",
            "Enter the quantity of bread: 5\n",
            "Enter the item purchased (or 'done' to finish): egg\n",
            "Item not found in the store.\n",
            "Enter the item purchased (or 'done' to finish): milk\n",
            "Enter the quantity of milk: 4\n",
            "Enter the item purchased (or 'done' to finish): done\n",
            "Total bill amount: 500\n"
          ]
        }
      ],
      "source": [
        "#grocery store bill calculator.\n",
        "def calculate_bill():\n",
        "  #a)store the prices of items in a dictionary.\n",
        "    prices = {'apple': 10, 'milk': 50, 'bread': 20, 'eggs': 15}\n",
        "    total_bill = 0\n",
        "\n",
        "    while True:\n",
        "      #b)take the items purchased and their quantites as input.\n",
        "        item = input(\"Enter the item purchased (or 'done' to finish): \").lower()\n",
        "        if item == 'done':\n",
        "            break\n",
        "        if item in prices:\n",
        "            quantity = int(input(f\"Enter the quantity of {item}: \"))\n",
        "            total_bill += prices[item] * quantity\n",
        "        else:\n",
        "            print(\"Item not found in the store.\")\n",
        "#c)calculate and display the total amount.\n",
        "    print(f\"Total bill amount: {total_bill}\")\n",
        "calculate_bill()"
      ]
    },
    {
      "cell_type": "code",
      "source": [
        "#student grade calculator.\n",
        "#b)calculate the average and determine the grade.\n",
        "def calculate_grade(marks):\n",
        "    average = sum(marks) / len(marks)\n",
        "\n",
        "    if average >= 90:\n",
        "        grade = 'A'\n",
        "    elif average >= 70:\n",
        "        grade = 'B'\n",
        "    elif average >= 50:\n",
        "        grade = 'C'\n",
        "    else:\n",
        "        grade = 'F'\n",
        "\n",
        "    return average, grade\n",
        "    #a)store marks for 5 subjects in a list.\n",
        "marks = [78, 85, 49, 94, 80]\n",
        "average, grade = calculate_grade(marks)\n",
        "#c)display the average and the grade.\n",
        "print(f'Average: {average:.2f}')\n",
        "print(f'Grade: {grade}')\n"
      ],
      "metadata": {
        "colab": {
          "base_uri": "https://localhost:8080/"
        },
        "id": "_fziVkaOQlII",
        "outputId": "53b1382e-f603-4977-8049-d5b473d05b20"
      },
      "execution_count": null,
      "outputs": [
        {
          "output_type": "stream",
          "name": "stdout",
          "text": [
            "Average: 77.20\n",
            "Grade: B\n"
          ]
        }
      ]
    },
    {
      "cell_type": "code",
      "source": [
        "#automate ticket booking for customers.\n",
        "#a)use a list to store the available seats.\n",
        "available_seats = list(range(1, 21))\n",
        "#b)allow the customer to book a seat by entering the seat number.\n",
        "def book_seat(seat_number):\n",
        "    if seat_number in available_seats:\n",
        "      #c)after booking,remove the seat from the available seats.\n",
        "        available_seats.remove(seat_number)\n",
        "        print(f\"Seat {seat_number} booked successfully.\")\n",
        "    else:\n",
        "        print(f\"Seat {seat_number} is not available.\")\n",
        "#d)display the remaining available seats.\n",
        "def display_available_seats():\n",
        "    print(\"Available seats:\", available_seats)\n",
        "\n",
        "display_available_seats()\n",
        "seat_to_book = int(input(\"Enter the seat number you want to book: \"))\n",
        "book_seat(seat_to_book)\n",
        "display_available_seats()"
      ],
      "metadata": {
        "colab": {
          "base_uri": "https://localhost:8080/"
        },
        "id": "KAVj9R2iR7vb",
        "outputId": "6856c2dd-f2e3-4490-e735-dcb77e2c3100"
      },
      "execution_count": null,
      "outputs": [
        {
          "output_type": "stream",
          "name": "stdout",
          "text": [
            "Available seats: [1, 2, 3, 4, 5, 6, 7, 8, 9, 10, 11, 12, 13, 14, 15, 16, 17, 18, 19, 20]\n",
            "Enter the seat number you want to book: 14\n",
            "Seat 14 booked successfully.\n",
            "Available seats: [1, 2, 3, 4, 5, 6, 7, 8, 9, 10, 11, 12, 13, 15, 16, 17, 18, 19, 20]\n"
          ]
        }
      ]
    }
  ]
}